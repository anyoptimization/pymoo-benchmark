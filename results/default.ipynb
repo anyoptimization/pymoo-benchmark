{
 "cells": [
  {
   "cell_type": "markdown",
   "metadata": {},
   "source": [
    "### Some commands across benchmarks"
   ]
  },
  {
   "cell_type": "code",
   "execution_count": 5,
   "metadata": {},
   "outputs": [],
   "source": [
    "local_pymoo = '/Users/blankjul/workspace/pymoo'"
   ]
  },
  {
   "cell_type": "code",
   "execution_count": 16,
   "metadata": {},
   "outputs": [],
   "source": [
    "%matplotlib inline\n",
    "%reload_ext autoreload\n",
    "%autoreload\n",
    "\n",
    "import matplotlib.pyplot\n",
    "import pickle\n",
    "from os.path import join, dirname, abspath\n",
    "import sys\n",
    "import warnings\n",
    "warnings.filterwarnings('ignore')\n",
    "\n",
    "from pathlib import Path\n",
    "import os, re\n",
    "import numpy as np\n",
    "import pandas as pd\n",
    "import numpy as np\n",
    "np.set_printoptions(suppress=True)\n",
    "\n",
    "import scipy\n",
    "import matplotlib.pyplot as plt\n",
    "from scipy.spatial.distance import cdist\n",
    "from pandas.plotting import parallel_coordinates\n",
    "\n",
    "try:\n",
    "    import pymoo\n",
    "except:\n",
    "    sys.path.insert(0, local_pymoo)\n",
    "    import pymoo\n",
    "   \n",
    "\n",
    "ROOT = dirname(Path().resolve())\n",
    "\n",
    "    \n",
    "try:\n",
    "    import benchmark\n",
    "except:\n",
    "    \n",
    "    sys.path.insert(0, ROOT)\n",
    "    import benchmark\n",
    "    \n",
    "from pymoo.core.problem import Problem\n",
    "from pymoo.util.nds.non_dominated_sorting import NonDominatedSorting\n",
    "from pymoo.indicators.igd import IGD\n",
    "from pymoo.indicators.hv import Hypervolume\n",
    "from pymoo.core.population import Population\n",
    "from pymoo.util.normalization import normalize, denormalize\n",
    "from pymoo.factory import get_problem\n",
    "\n",
    "from benchmark.benchmarks import get_benchmark\n",
    "\n",
    "\n",
    "from benchmark.core.io import DefaultWriter, DefaultLoader"
   ]
  },
  {
   "cell_type": "code",
   "execution_count": 15,
   "metadata": {},
   "outputs": [
    {
     "ename": "NameError",
     "evalue": "name 'FOLDER' is not defined",
     "output_type": "error",
     "traceback": [
      "\u001b[0;31m---------------------------------------------------------------------------\u001b[0m",
      "\u001b[0;31mNameError\u001b[0m                                 Traceback (most recent call last)",
      "\u001b[0;32m<ipython-input-15-80ba31735d42>\u001b[0m in \u001b[0;36m<module>\u001b[0;34m\u001b[0m\n\u001b[1;32m      2\u001b[0m \u001b[0;34m\u001b[0m\u001b[0m\n\u001b[1;32m      3\u001b[0m \u001b[0;31m# the loader for file that have been already saved\u001b[0m\u001b[0;34m\u001b[0m\u001b[0;34m\u001b[0m\u001b[0;34m\u001b[0m\u001b[0m\n\u001b[0;32m----> 4\u001b[0;31m \u001b[0mLOADER\u001b[0m \u001b[0;34m=\u001b[0m \u001b[0mDefaultLoader\u001b[0m\u001b[0;34m(\u001b[0m\u001b[0mFOLDER\u001b[0m\u001b[0;34m)\u001b[0m\u001b[0;34m\u001b[0m\u001b[0;34m\u001b[0m\u001b[0m\n\u001b[0m\u001b[1;32m      5\u001b[0m \u001b[0;34m\u001b[0m\u001b[0m\n\u001b[1;32m      6\u001b[0m \u001b[0;31m# the file writer to store the runs\u001b[0m\u001b[0;34m\u001b[0m\u001b[0;34m\u001b[0m\u001b[0;34m\u001b[0m\u001b[0m\n",
      "\u001b[0;31mNameError\u001b[0m: name 'FOLDER' is not defined"
     ]
    }
   ],
   "source": []
  },
  {
   "cell_type": "code",
   "execution_count": null,
   "metadata": {},
   "outputs": [],
   "source": []
  }
 ],
 "metadata": {
  "kernelspec": {
   "display_name": "Python 3",
   "language": "python",
   "name": "python3"
  },
  "language_info": {
   "codemirror_mode": {
    "name": "ipython",
    "version": 3
   },
   "file_extension": ".py",
   "mimetype": "text/x-python",
   "name": "python",
   "nbconvert_exporter": "python",
   "pygments_lexer": "ipython3",
   "version": "3.7.3"
  }
 },
 "nbformat": 4,
 "nbformat_minor": 4
}
